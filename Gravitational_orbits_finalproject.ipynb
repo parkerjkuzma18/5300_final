{
 "cells": [
  {
   "cell_type": "markdown",
   "id": "cbc46977",
   "metadata": {},
   "source": [
    "## Gravitational orbits class"
   ]
  },
  {
   "cell_type": "markdown",
   "id": "eb8eb4b7",
   "metadata": {},
   "source": [
    "Solves for the orbits of two particles orbiting under gravitational attraction using Lagrange's equations."
   ]
  },
  {
   "cell_type": "code",
   "execution_count": 1,
   "id": "510074f5",
   "metadata": {},
   "outputs": [],
   "source": [
    "%matplotlib inline"
   ]
  },
  {
   "cell_type": "code",
   "execution_count": 2,
   "id": "b23d773a",
   "metadata": {},
   "outputs": [],
   "source": [
    "# call in needed packages\n",
    "import numpy as np\n",
    "from scipy.integrate import odeint, solve_ivp\n",
    "\n",
    "import matplotlib.pyplot as plt"
   ]
  },
  {
   "cell_type": "code",
   "execution_count": 3,
   "id": "12f5740d",
   "metadata": {},
   "outputs": [],
   "source": [
    "class GravitationalOrbits():\n",
    "    \"\"\"\n",
    "    Uses Lagrange's equations for two particles orbiting under gravitational attraction.\n",
    "    \n",
    "    Parameters:\n",
    "    ---------\n",
    "    m1: float\n",
    "    m2: float\n",
    "    G: float\n",
    "    \n",
    "    Methods:\n",
    "    -----------\n",
    "    dy_dt(t, y)\n",
    "        Returns RHS of differential equation in vector y given time t and corresponding y value.\n",
    "    \"\"\"\n",
    "    \n",
    "    def __init__ (self, m1=1., m2=1., G=1.):\n",
    "        self.m1 = m1\n",
    "        self.m2 = m2\n",
    "        self.G = G\n",
    "        \n",
    "    def dz_dt(self, t, z):\n",
    "        \"\"\"\n",
    "        Returns RHS of differential equation\n",
    "        \n",
    "        Parameters\n",
    "        ----------\n",
    "        t: float\n",
    "            time\n",
    "        z: float\n",
    "            8-vector with\n",
    "            z[0] = x1(t) and z[1] = x1_dot(t)\n",
    "            z[2] = y1(t) and z[3] = y1_dot(t)\n",
    "            z[4] = x2(t) and z[5] = x2_dot(t)\n",
    "            z[6] = y2(t) and z[7] = y2_dot(t)\n",
    "        \"\"\"\n",
    "        \n",
    "        r_12 = np.sqrt((z[0] - z[4])**2 + (z[2] - z[6])**2)\n",
    "        \n",
    "        return [z[1], self.G * self.m2 * (z[4] - z[0]) / r_12**3, z[3], self.G * self.m2 * (z[6] - z[2]) / r_12**3, \\\n",
    "               z[5], -self.G * self.m1 * (z[4] - z[0]) / r_12**3, z[7], -self.G * self.m1 * (z[6]-z[2]) / r_12**3]\n",
    "    \n",
    "    def solve_ode(self, t_pts, z_0, abserr=1.e-8, relerr=1.e-8):\n",
    "        \"\"\"\n",
    "        Solve ODE given initial conditions.\n",
    "        \"\"\"\n",
    "        \n",
    "        solution = solve_ivp(self.dz_dt, (t_pts[0], t_pts[-1]), z_0, t_eval=t_pts, method='RK23', atol=abserr, rtol=relerr)\n",
    "        x1, x1_dot, y1, y1_dot, x2, x2_dot, y2, y2_dot = solution.y\n",
    "        \n",
    "        return x1, x1_dot, y1, y1_dot, x2, x2_dot, y2, y2_dot"
   ]
  },
  {
   "cell_type": "code",
   "execution_count": 4,
   "id": "a4ae48d9",
   "metadata": {},
   "outputs": [],
   "source": [
    "def plot_y_vs_x(x, y, axis_labels=None, label=None, title=None, \n",
    "                color=None, linestyle=None, semilogy=False, loglog=False,\n",
    "                ax=None):\n",
    "    \"\"\"\n",
    "    Generic plotting function: return a figure axis with a plot of y vs. x,\n",
    "    with line color and style, title, axis labels, and line label\n",
    "    \"\"\"\n",
    "    if ax is None:        # if the axis object doesn't exist, make one\n",
    "        ax = plt.gca()\n",
    "\n",
    "    if (semilogy):\n",
    "        line, = ax.semilogy(x, y, label=label, \n",
    "                            color=color, linestyle=linestyle)\n",
    "    elif (loglog):\n",
    "        line, = ax.loglog(x, y, label=label, \n",
    "                          color=color, linestyle=linestyle)\n",
    "    else:\n",
    "        line, = ax.plot(x, y, label=label, \n",
    "                    color=color, linestyle=linestyle)\n",
    "\n",
    "    if label is not None:    # if a label if passed, show the legend\n",
    "        ax.legend()\n",
    "    if title is not None:    # set a title if one if passed\n",
    "        ax.set_title(title)\n",
    "    if axis_labels is not None:  # set x-axis and y-axis labels if passed  \n",
    "        ax.set_xlabel(axis_labels[0])\n",
    "        ax.set_ylabel(axis_labels[1])\n",
    "\n",
    "    return ax, line"
   ]
  },
  {
   "cell_type": "code",
   "execution_count": 5,
   "id": "6aa6860a",
   "metadata": {},
   "outputs": [],
   "source": [
    "def start_stop_indices(t_pts, plot_start, plot_stop):\n",
    "    start_index = (np.fabs(t_pts-plot_start)).argmin()  # index in t_pts array \n",
    "    stop_index = (np.fabs(t_pts-plot_stop)).argmin()  # index in t_pts array \n",
    "    return start_index, stop_index"
   ]
  },
  {
   "cell_type": "markdown",
   "id": "488f73f9",
   "metadata": {},
   "source": [
    "## Make simple orbit plots"
   ]
  },
  {
   "cell_type": "code",
   "execution_count": 6,
   "id": "7bc22154",
   "metadata": {},
   "outputs": [
    {
     "data": {
      "image/png": "[encoded data removed]",
      "text/plain": [
       "<Figure size 360x360 with 1 Axes>"
      ]
     },
     "metadata": {
      "needs_background": "light"
     },
     "output_type": "display_data"
    }
   ],
   "source": [
    "# Labels for axes\n",
    "orbit_labels = (r'$x$', r'$y$')\n",
    "\n",
    "# Common plotting time\n",
    "t_start = 0\n",
    "t_end = 10\n",
    "delta_t = .01\n",
    "\n",
    "t_pts = np.arange(t_start, t_end+delta_t, delta_t)\n",
    "\n",
    "G = 1.\n",
    "m1 = 1.\n",
    "m2 = 5.\n",
    "\n",
    "# Instantiate a set of orbits\n",
    "o1 = GravitationalOrbits(m1, m2, G)\n",
    "\n",
    "\n",
    "# initial conditions with C.O.M velocity zero\n",
    "x1_0, x1_dot_0 = 1., -1.\n",
    "y1_0, y1_dot_0 = 1., 1.\n",
    "x2_0, x2_dot_0 = (-m1 / m2) * x1_0, -(m1 / m2) * x1_dot_0\n",
    "y2_0, y2_dot_0 = (-m1 / m2) * y1_0, -(m1 / m2) * y1_dot_0\n",
    "\n",
    "z_0 = [x1_0, x1_dot_0, y1_0, y1_dot_0, x2_0, x2_dot_0, y2_0, y2_dot_0]\n",
    "x1, x1_dot, y1, y1_dot, x2, x2_dot, y2, y2_dot = o1.solve_ode(t_pts, z_0)\n",
    "\n",
    "# start plot\n",
    "fig = plt.figure(figsize=(5,5))\n",
    "\n",
    "ax = fig.add_subplot(1,1,1)\n",
    "\n",
    "start, stop = start_stop_indices(t_pts, t_start, t_end)\n",
    "ax.plot(x1, y1, color='blue', label=r'$m_1$')\n",
    "ax.plot(x2, y2, color='red', label=r'$m_2$')\n",
    "ax.set_title('Simple gravitational orbit')\n",
    "ax.legend()\n",
    "ax.set_aspect(1)\n",
    "\n",
    "fig.tight_layout()"
   ]
  },
  {
   "cell_type": "code",
   "execution_count": 7,
   "id": "f5a0a719",
   "metadata": {
    "scrolled": false
   },
   "outputs": [
    {
     "data": {
      "image/png": "[encoded data removed]",
      "text/plain": [
       "<Figure size 360x360 with 1 Axes>"
      ]
     },
     "metadata": {
      "needs_background": "light"
     },
     "output_type": "display_data"
    }
   ],
   "source": [
    "# Common plotting time\n",
    "t_start = 0\n",
    "t_end = 20\n",
    "delta_t = .00001\n",
    "\n",
    "t_pts = np.arange(t_start, t_end+delta_t, delta_t)\n",
    "\n",
    "G = 20.\n",
    "m1 = 20.\n",
    "m2 = 1.\n",
    "\n",
    "# Instantiate a set of orbits\n",
    "o1 = GravitationalOrbits(m1, m2, G)\n",
    "\n",
    "\n",
    "# initial conditions with C.O.M velocity zero\n",
    "x1_0, x1_dot_0 = .1, 0.\n",
    "y1_0, y1_dot_0 = 0, .75\n",
    "x2_0, x2_dot_0 = (-m1 / m2) * x1_0, -(m1 / m2) * x1_dot_0\n",
    "y2_0, y2_dot_0 = (-m1 / m2) * y1_0, -(m1 / m2) * y1_dot_0\n",
    "\n",
    "z_0 = [x1_0, x1_dot_0, y1_0, y1_dot_0, x2_0, x2_dot_0, y2_0, y2_dot_0]\n",
    "x1, x1_dot, y1, y1_dot, x2, x2_dot, y2, y2_dot = o1.solve_ode(t_pts, z_0)\n",
    "\n",
    "# start plot\n",
    "fig = plt.figure(figsize=(5,5))\n",
    "\n",
    "ax = fig.add_subplot(1,1,1)\n",
    "\n",
    "start, stop = start_stop_indices(t_pts, t_start, t_end)\n",
    "ax.plot(x1, y1, color='blue', label=r'$m_1$')\n",
    "ax.plot(x2, y2, color='red', label=r'$m_2$')\n",
    "ax.set_title('Simple gravitational orbit')\n",
    "ax.legend()\n",
    "ax.set_aspect(1)\n",
    "\n",
    "fig.tight_layout()"
   ]
  },
  {
   "cell_type": "markdown",
   "id": "37c4a504",
   "metadata": {},
   "source": [
    "This is reduced to the orbits considered in class."
   ]
  }
 ],
 "metadata": {
  "kernelspec": {
   "display_name": "Python 3 (ipykernel)",
   "language": "python",
   "name": "python3"
  },
  "language_info": {
   "codemirror_mode": {
    "name": "ipython",
    "version": 3
   },
   "file_extension": ".py",
   "mimetype": "text/x-python",
   "name": "python",
   "nbconvert_exporter": "python",
   "pygments_lexer": "ipython3",
   "version": "3.9.9"
  }
 },
 "nbformat": 4,
 "nbformat_minor": 5
}
